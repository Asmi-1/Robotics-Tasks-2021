import numpy as np 
import random


again = 'y'
while again == 'y': #Condtion to check if you want to play again
  num = random.randint(1000,9999) # Computer taking a 4-digit random no.
  l1 = [int(a) for a in str(num)] # Breaking the no. into list with each element as a digit 
  guess, count, score= None, 0, 20

  while count<=10:
    guess = input("Guess a Number:") # Gaking in Guessed no. from user
    l2 = [int(a) for a in str(guess)] # Breaking the no. into list with each element as a digit 
    
    if l1 == l2: #condition when the guess is correct
      print("All Digits in the Correct Place.\nYou have won the game!!")
      score = score + 5
      break
   
    else :
      p = correct_pos(l1,l2) #total correct guessed digits
      q = wrong_pos(l2,p) # total wrong guessed digits
      print("Output-\n",set(l1).intersection(l2),"guessed correctly.") #prints total gits guessed correctly
      print( p," placed in correct position") #prints list of digits in correct position
      print( q," placed in wrong position.\nTurns remaining -", (10-count),"\n") #prints list of digits in wrong position
      score = score - 2
      
    count+=1
    if count == 10:
      print("Sorry you failed!") #prints failed if more than 10 attempts 

  print("Your Score: ", score)
  again=input("Do you want to play again?(y/n):")[0]
  print("\n")
#-------------------------------------------------------------------------------
def correct_pos (l1,l2) : #function list the digits in correct position
 k1 = [i for i, j in zip(l1, l2) if i==j]
 return(k1)

def wrong_pos (l2,p) : #function to list the digits in wrong position
 k2 = tuple(set(l2) ^ set(p))
 return(k2)
